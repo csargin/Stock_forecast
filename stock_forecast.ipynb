{
  "cells": [
    {
      "cell_type": "code",
      "execution_count": 1,
      "metadata": {
        "colab": {
          "base_uri": "https://localhost:8080/"
        },
        "id": "uiV4th-1SEpJ",
        "outputId": "783d57d2-f499-4bb2-b2a4-89704051c61d"
      },
      "outputs": [
        {
          "name": "stdout",
          "output_type": "stream",
          "text": [
            "Looking in indexes: https://pypi.org/simple, https://us-python.pkg.dev/colab-wheels/public/simple/\n",
            "Collecting yahoo_fin\n",
            "  Downloading yahoo_fin-0.8.9.1-py3-none-any.whl (10 kB)\n",
            "Collecting requests-html\n",
            "  Downloading requests_html-0.10.0-py3-none-any.whl (13 kB)\n",
            "Requirement already satisfied: requests in /usr/local/lib/python3.9/dist-packages (from yahoo_fin) (2.27.1)\n",
            "Collecting feedparser\n",
            "  Downloading feedparser-6.0.10-py3-none-any.whl (81 kB)\n",
            "\u001b[2K     \u001b[90m━━━━━━━━━━━━━━━━━━━━━━━━━━━━━━━━━━━━━━━━\u001b[0m \u001b[32m81.1/81.1 KB\u001b[0m \u001b[31m3.4 MB/s\u001b[0m eta \u001b[36m0:00:00\u001b[0m\n",
            "\u001b[?25hRequirement already satisfied: pandas in /usr/local/lib/python3.9/dist-packages (from yahoo_fin) (1.4.4)\n",
            "Collecting sgmllib3k\n",
            "  Downloading sgmllib3k-1.0.0.tar.gz (5.8 kB)\n",
            "  Preparing metadata (setup.py) ... \u001b[?25l\u001b[?25hdone\n",
            "Requirement already satisfied: numpy>=1.18.5 in /usr/local/lib/python3.9/dist-packages (from pandas->yahoo_fin) (1.22.4)\n",
            "Requirement already satisfied: pytz>=2020.1 in /usr/local/lib/python3.9/dist-packages (from pandas->yahoo_fin) (2022.7.1)\n",
            "Requirement already satisfied: python-dateutil>=2.8.1 in /usr/local/lib/python3.9/dist-packages (from pandas->yahoo_fin) (2.8.2)\n",
            "Requirement already satisfied: certifi>=2017.4.17 in /usr/local/lib/python3.9/dist-packages (from requests->yahoo_fin) (2022.12.7)\n",
            "Requirement already satisfied: urllib3<1.27,>=1.21.1 in /usr/local/lib/python3.9/dist-packages (from requests->yahoo_fin) (1.26.15)\n",
            "Requirement already satisfied: charset-normalizer~=2.0.0 in /usr/local/lib/python3.9/dist-packages (from requests->yahoo_fin) (2.0.12)\n",
            "Requirement already satisfied: idna<4,>=2.5 in /usr/local/lib/python3.9/dist-packages (from requests->yahoo_fin) (3.4)\n",
            "Collecting pyquery\n",
            "  Downloading pyquery-2.0.0-py3-none-any.whl (22 kB)\n",
            "Collecting w3lib\n",
            "  Downloading w3lib-2.1.1-py3-none-any.whl (21 kB)\n",
            "Collecting pyppeteer>=0.0.14\n",
            "  Downloading pyppeteer-1.0.2-py3-none-any.whl (83 kB)\n",
            "\u001b[2K     \u001b[90m━━━━━━━━━━━━━━━━━━━━━━━━━━━━━━━━━━━━━━━━\u001b[0m \u001b[32m83.4/83.4 KB\u001b[0m \u001b[31m1.0 MB/s\u001b[0m eta \u001b[36m0:00:00\u001b[0m\n",
            "\u001b[?25hCollecting parse\n",
            "  Downloading parse-1.19.0.tar.gz (30 kB)\n",
            "  Preparing metadata (setup.py) ... \u001b[?25l\u001b[?25hdone\n",
            "Collecting fake-useragent\n",
            "  Downloading fake_useragent-1.1.3-py3-none-any.whl (50 kB)\n",
            "\u001b[2K     \u001b[90m━━━━━━━━━━━━━━━━━━━━━━━━━━━━━━━━━━━━━━━━\u001b[0m \u001b[32m50.5/50.5 KB\u001b[0m \u001b[31m3.3 MB/s\u001b[0m eta \u001b[36m0:00:00\u001b[0m\n",
            "\u001b[?25hRequirement already satisfied: bs4 in /usr/local/lib/python3.9/dist-packages (from requests-html->yahoo_fin) (0.0.1)\n",
            "Collecting websockets<11.0,>=10.0\n",
            "  Downloading websockets-10.4-cp39-cp39-manylinux_2_5_x86_64.manylinux1_x86_64.manylinux_2_17_x86_64.manylinux2014_x86_64.whl (106 kB)\n",
            "\u001b[2K     \u001b[90m━━━━━━━━━━━━━━━━━━━━━━━━━━━━━━━━━━━━━━\u001b[0m \u001b[32m106.5/106.5 KB\u001b[0m \u001b[31m12.6 MB/s\u001b[0m eta \u001b[36m0:00:00\u001b[0m\n",
            "\u001b[?25hRequirement already satisfied: tqdm<5.0.0,>=4.42.1 in /usr/local/lib/python3.9/dist-packages (from pyppeteer>=0.0.14->requests-html->yahoo_fin) (4.65.0)\n",
            "Collecting pyee<9.0.0,>=8.1.0\n",
            "  Downloading pyee-8.2.2-py2.py3-none-any.whl (12 kB)\n",
            "Collecting appdirs<2.0.0,>=1.4.3\n",
            "  Downloading appdirs-1.4.4-py2.py3-none-any.whl (9.6 kB)\n",
            "Requirement already satisfied: importlib-metadata>=1.4 in /usr/local/lib/python3.9/dist-packages (from pyppeteer>=0.0.14->requests-html->yahoo_fin) (6.0.0)\n",
            "Requirement already satisfied: six>=1.5 in /usr/local/lib/python3.9/dist-packages (from python-dateutil>=2.8.1->pandas->yahoo_fin) (1.16.0)\n",
            "Requirement already satisfied: beautifulsoup4 in /usr/local/lib/python3.9/dist-packages (from bs4->requests-html->yahoo_fin) (4.11.2)\n",
            "Requirement already satisfied: importlib-resources>=5.0 in /usr/local/lib/python3.9/dist-packages (from fake-useragent->requests-html->yahoo_fin) (5.12.0)\n",
            "Collecting cssselect>=1.2.0\n",
            "  Downloading cssselect-1.2.0-py2.py3-none-any.whl (18 kB)\n",
            "Requirement already satisfied: lxml>=2.1 in /usr/local/lib/python3.9/dist-packages (from pyquery->requests-html->yahoo_fin) (4.9.2)\n",
            "Requirement already satisfied: zipp>=0.5 in /usr/local/lib/python3.9/dist-packages (from importlib-metadata>=1.4->pyppeteer>=0.0.14->requests-html->yahoo_fin) (3.15.0)\n",
            "Requirement already satisfied: soupsieve>1.2 in /usr/local/lib/python3.9/dist-packages (from beautifulsoup4->bs4->requests-html->yahoo_fin) (2.4)\n",
            "Building wheels for collected packages: parse, sgmllib3k\n",
            "  Building wheel for parse (setup.py) ... \u001b[?25l\u001b[?25hdone\n",
            "  Created wheel for parse: filename=parse-1.19.0-py3-none-any.whl size=24589 sha256=6ed6df756c114498ffe8aca7f67f61e9bf62c8030b51218ba56a7dae806d954c\n",
            "  Stored in directory: /root/.cache/pip/wheels/d6/9c/58/ee3ba36897e890f3ad81e9b730791a153fce20caa4a8a474df\n",
            "  Building wheel for sgmllib3k (setup.py) ... \u001b[?25l\u001b[?25hdone\n",
            "  Created wheel for sgmllib3k: filename=sgmllib3k-1.0.0-py3-none-any.whl size=6065 sha256=34e990b6a8f9d668893ec4a5c98366d3b1925524d1cf042ef52f4ee02e374190\n",
            "  Stored in directory: /root/.cache/pip/wheels/65/7a/a7/78c287f64e401255dff4c13fdbc672fed5efbfd21c530114e1\n",
            "Successfully built parse sgmllib3k\n",
            "Installing collected packages: sgmllib3k, pyee, parse, appdirs, websockets, w3lib, feedparser, cssselect, pyquery, pyppeteer, fake-useragent, requests-html, yahoo_fin\n",
            "Successfully installed appdirs-1.4.4 cssselect-1.2.0 fake-useragent-1.1.3 feedparser-6.0.10 parse-1.19.0 pyee-8.2.2 pyppeteer-1.0.2 pyquery-2.0.0 requests-html-0.10.0 sgmllib3k-1.0.0 w3lib-2.1.1 websockets-10.4 yahoo_fin-0.8.9.1\n"
          ]
        }
      ],
      "source": [
        "try:\n",
        "    import yahoo_fin.stock_info as si\n",
        "except:\n",
        "    !pip install yahoo_fin\n",
        "    import yahoo_fin.stock_info as si\n",
        "\n",
        "import tensorflow as tf\n",
        "import datetime as dt\n",
        "from tensorflow import keras\n",
        "from sklearn.preprocessing import MinMaxScaler\n",
        "import pandas as pd\n",
        "import matplotlib.pyplot as plt\n",
        "import numpy as np\n",
        "import seaborn as sns\n",
        "import os\n",
        "import warnings\n",
        "import pandas as pd\n",
        "import requests\n",
        "\n",
        "warnings.filterwarnings(\"ignore\")"
      ]
    },
    {
      "cell_type": "code",
      "execution_count": 2,
      "metadata": {
        "colab": {
          "base_uri": "https://localhost:8080/"
        },
        "id": "xCVi0NDKSWCy",
        "outputId": "02bf7376-5667-4cda-ccf8-22c9e5f0713c"
      },
      "outputs": [
        {
          "name": "stdout",
          "output_type": "stream",
          "text": [
            "[array([0.76064691, 0.59385672, 0.41133724, 0.39649824, 0.41252416,\n",
            "       0.42973745, 0.2923282 , 0.64846412, 0.7324529 , 0.6903102 ,\n",
            "       0.74254331, 0.70544582, 0.76272458, 0.7796408 , 0.68229702,\n",
            "       0.74669821, 0.77311206, 0.685265  , 0.56981762, 0.47929965,\n",
            "       0.68289071, 0.69120051, 0.67636151, 0.6413417 , 0.53093952,\n",
            "       0.47247384, 0.52322295, 0.50868103, 0.57783081, 0.60691511,\n",
            "       0.53984301, 0.34070347, 0.2816441 , 0.21813321, 0.21605599,\n",
            "       0.30954149, 0.21397831, 0.2029976 , 0.14868681, 0.03027168,\n",
            "       0.13622211, 0.14571883, 0.00148399, 0.03976863, 0.        ,\n",
            "       0.13651873, 0.15224803, 0.16946132, 0.25137287, 0.24899858,\n",
            "       0.2890636 , 0.32408387, 0.30241906, 0.30419967, 0.38136218,\n",
            "       0.47751904, 0.51966174, 0.49977754, 0.56210151, 0.62056674])]\n",
            "[0.5336104324017974]\n",
            "\n",
            "[array([0.76064691, 0.59385672, 0.41133724, 0.39649824, 0.41252416,\n",
            "       0.42973745, 0.2923282 , 0.64846412, 0.7324529 , 0.6903102 ,\n",
            "       0.74254331, 0.70544582, 0.76272458, 0.7796408 , 0.68229702,\n",
            "       0.74669821, 0.77311206, 0.685265  , 0.56981762, 0.47929965,\n",
            "       0.68289071, 0.69120051, 0.67636151, 0.6413417 , 0.53093952,\n",
            "       0.47247384, 0.52322295, 0.50868103, 0.57783081, 0.60691511,\n",
            "       0.53984301, 0.34070347, 0.2816441 , 0.21813321, 0.21605599,\n",
            "       0.30954149, 0.21397831, 0.2029976 , 0.14868681, 0.03027168,\n",
            "       0.13622211, 0.14571883, 0.00148399, 0.03976863, 0.        ,\n",
            "       0.13651873, 0.15224803, 0.16946132, 0.25137287, 0.24899858,\n",
            "       0.2890636 , 0.32408387, 0.30241906, 0.30419967, 0.38136218,\n",
            "       0.47751904, 0.51966174, 0.49977754, 0.56210151, 0.62056674]), array([0.59385672, 0.41133724, 0.39649824, 0.41252416, 0.42973745,\n",
            "       0.2923282 , 0.64846412, 0.7324529 , 0.6903102 , 0.74254331,\n",
            "       0.70544582, 0.76272458, 0.7796408 , 0.68229702, 0.74669821,\n",
            "       0.77311206, 0.685265  , 0.56981762, 0.47929965, 0.68289071,\n",
            "       0.69120051, 0.67636151, 0.6413417 , 0.53093952, 0.47247384,\n",
            "       0.52322295, 0.50868103, 0.57783081, 0.60691511, 0.53984301,\n",
            "       0.34070347, 0.2816441 , 0.21813321, 0.21605599, 0.30954149,\n",
            "       0.21397831, 0.2029976 , 0.14868681, 0.03027168, 0.13622211,\n",
            "       0.14571883, 0.00148399, 0.03976863, 0.        , 0.13651873,\n",
            "       0.15224803, 0.16946132, 0.25137287, 0.24899858, 0.2890636 ,\n",
            "       0.32408387, 0.30241906, 0.30419967, 0.38136218, 0.47751904,\n",
            "       0.51966174, 0.49977754, 0.56210151, 0.62056674, 0.53361043])]\n",
            "[0.5336104324017974, 0.5718948454546631]\n",
            "\n"
          ]
        }
      ],
      "source": [
        "# name of the stock and time interval to forcast\n",
        "stock_name  = \"AAPL\"\n",
        "Start_Date = \"2022-11-01\"\n",
        "End_Date = dt.datetime.now()\n",
        "\n",
        "# Sets the global random seed.\n",
        "tf.random.set_seed(0)\n",
        "\n",
        "# download the data fromm yahoo fin\n",
        "yf_data = si.get_data(stock_name, start_date= Start_Date, end_date= End_Date, index_as_date = True, interval = \"1d\")\n",
        "\n",
        "# pre process\n",
        "data_frame = pd.DataFrame(data=yf_data)\n",
        "data_frame['close'].fillna(method='ffill')\n",
        "\n",
        "# get close data\n",
        "close_data_frame = data_frame.filter(['close'])\n",
        "close_data = close_data_frame.values\n",
        "\n",
        "# scale the data\n",
        "scaler = MinMaxScaler(feature_range=(0, 1))\n",
        "scaled_close_data = scaler.fit_transform(close_data)\n",
        "\n",
        "# Get the number of rows to train the model on\n",
        "training_data_len = int(np.ceil( len(close_data) * .95 ))\n",
        "\n",
        "# Create the training data set \n",
        "# Create the scaled training data set\n",
        "train_data = scaled_close_data[0:int(training_data_len), :]\n",
        "\n",
        "# generate the input and output sequences\n",
        "n_lookback = 60  # length of input sequences (lookback period)\n",
        "n_forecast = 30  # length of output sequences (forecast period)\n",
        "\n",
        "# Split the data into x_train and y_train data sets\n",
        "x_train = []\n",
        "y_train = []\n",
        "\n",
        "for i in range(n_lookback, len(train_data)):\n",
        "    x_train.append(train_data[i-n_lookback:i, 0])\n",
        "    y_train.append(train_data[i, 0])\n",
        "    if i<= n_lookback+1:\n",
        "        print(x_train)\n",
        "        print(y_train)\n",
        "        print()\n",
        "\n",
        "# Convert the x_train and y_train to numpy arrays \n",
        "x_train, y_train = np.array(x_train), np.array(y_train)\n",
        "\n",
        "# Reshape the data\n",
        "x_train = np.reshape(x_train, (x_train.shape[0], x_train.shape[1], 1))"
      ]
    },
    {
      "cell_type": "code",
      "execution_count": 3,
      "metadata": {
        "colab": {
          "base_uri": "https://localhost:8080/"
        },
        "id": "j1uIXWh_FyGa",
        "outputId": "03aa8a5f-565d-4156-f4ca-520e8934c258"
      },
      "outputs": [
        {
          "name": "stdout",
          "output_type": "stream",
          "text": [
            "32/32 [==============================] - 11s 14ms/step - loss: 0.0838\n"
          ]
        },
        {
          "data": {
            "text/plain": [
              "<keras.callbacks.History at 0x7fe930075be0>"
            ]
          },
          "execution_count": 3,
          "metadata": {},
          "output_type": "execute_result"
        }
      ],
      "source": [
        "from keras.models import Sequential\n",
        "from keras.layers import Dense, LSTM\n",
        "\n",
        "# Build the LSTM model\n",
        "model = Sequential()\n",
        "model.add(LSTM(128, return_sequences=True, input_shape= (x_train.shape[1], 1)))\n",
        "model.add(LSTM(64, return_sequences=False))\n",
        "model.add(Dense(25))\n",
        "model.add(Dense(1))\n",
        "\n",
        "# Compile the model\n",
        "model.compile(optimizer='adam', loss='mean_squared_error')\n",
        "\n",
        "# Train the model\n",
        "model.fit(x_train, y_train, batch_size=1, epochs=1)"
      ]
    },
    {
      "cell_type": "code",
      "execution_count": 4,
      "metadata": {
        "colab": {
          "base_uri": "https://localhost:8080/"
        },
        "id": "hNq8CyhPF6mC",
        "outputId": "31a494e0-cec5-4cef-a5cb-3d573ed73df1"
      },
      "outputs": [
        {
          "name": "stdout",
          "output_type": "stream",
          "text": [
            "1/1 [==============================] - 1s 1s/step\n"
          ]
        },
        {
          "data": {
            "text/plain": [
              "6.376776432742942"
            ]
          },
          "execution_count": 4,
          "metadata": {},
          "output_type": "execute_result"
        }
      ],
      "source": [
        "# Create the testing data set\n",
        "# Create a new array containing scaled values from index 1543 to 2002 \n",
        "test_data = scaled_close_data[training_data_len - n_lookback: , :]\n",
        "# Create the data sets x_test and y_test\n",
        "x_test = []\n",
        "y_test = close_data[training_data_len:, :]\n",
        "for i in range(n_lookback, len(test_data)):\n",
        "    x_test.append(test_data[i-n_lookback:i, 0])\n",
        "    \n",
        "# Convert the data to a numpy array\n",
        "x_test = np.array(x_test)\n",
        "\n",
        "# Reshape the data\n",
        "x_test = np.reshape(x_test, (x_test.shape[0], x_test.shape[1], 1 ))\n",
        "\n",
        "# Get the models predicted price values \n",
        "predictions = model.predict(x_test)\n",
        "predictions = scaler.inverse_transform(predictions)\n",
        "\n",
        "# Get the root mean squared error (RMSE)\n",
        "rmse = np.sqrt(np.mean(((predictions - y_test) ** 2)))\n",
        "rmse"
      ]
    },
    {
      "cell_type": "code",
      "execution_count": 5,
      "metadata": {
        "colab": {
          "base_uri": "https://localhost:8080/",
          "height": 412
        },
        "id": "ZjE0JlN0GszV",
        "outputId": "34c5131b-0c3a-49c7-aed0-44cc01d3445b"
      },
      "outputs": [
        {
          "data": {
            "image/png": "[encoded data removed]",
            "text/plain": [
              "<Figure size 1152x432 with 1 Axes>"
            ]
          },
          "metadata": {
            "needs_background": "light"
          },
          "output_type": "display_data"
        }
      ],
      "source": [
        "# Plot the data\n",
        "train = close_data_frame[:training_data_len]\n",
        "valid = close_data_frame[training_data_len:]\n",
        "valid['Predictions'] = predictions\n",
        "# Visualize the data\n",
        "plt.figure(figsize=(16,6))\n",
        "plt.title('Model')\n",
        "plt.xlabel('Date', fontsize=18)\n",
        "plt.ylabel('Close Price USD ($)', fontsize=18)\n",
        "plt.plot(train['close'])\n",
        "plt.plot(valid[['close', 'Predictions']])\n",
        "plt.legend(['Train', 'Val', 'Predictions'], loc='lower right')\n",
        "plt.show()"
      ]
    },
    {
      "cell_type": "code",
      "execution_count": 6,
      "metadata": {
        "colab": {
          "base_uri": "https://localhost:8080/",
          "height": 175
        },
        "id": "W82S3SphR2aJ",
        "outputId": "a8837dfa-9245-4200-d449-d4fb98416d96"
      },
      "outputs": [
        {
          "data": {
            "text/html": [
              "\n",
              "  <div id=\"df-863ab4c1-cfd9-420d-9d3c-63fde4a2d9ff\">\n",
              "    <div class=\"colab-df-container\">\n",
              "      <div>\n",
              "<style scoped>\n",
              "    .dataframe tbody tr th:only-of-type {\n",
              "        vertical-align: middle;\n",
              "    }\n",
              "\n",
              "    .dataframe tbody tr th {\n",
              "        vertical-align: top;\n",
              "    }\n",
              "\n",
              "    .dataframe thead th {\n",
              "        text-align: right;\n",
              "    }\n",
              "</style>\n",
              "<table border=\"1\" class=\"dataframe\">\n",
              "  <thead>\n",
              "    <tr style=\"text-align: right;\">\n",
              "      <th></th>\n",
              "      <th>close</th>\n",
              "      <th>Predictions</th>\n",
              "    </tr>\n",
              "  </thead>\n",
              "  <tbody>\n",
              "    <tr>\n",
              "      <th>2023-03-16</th>\n",
              "      <td>155.850006</td>\n",
              "      <td>150.028900</td>\n",
              "    </tr>\n",
              "    <tr>\n",
              "      <th>2023-03-17</th>\n",
              "      <td>155.000000</td>\n",
              "      <td>150.291641</td>\n",
              "    </tr>\n",
              "    <tr>\n",
              "      <th>2023-03-20</th>\n",
              "      <td>157.399994</td>\n",
              "      <td>150.586960</td>\n",
              "    </tr>\n",
              "    <tr>\n",
              "      <th>2023-03-21</th>\n",
              "      <td>158.714996</td>\n",
              "      <td>150.957306</td>\n",
              "    </tr>\n",
              "  </tbody>\n",
              "</table>\n",
              "</div>\n",
              "      <button class=\"colab-df-convert\" onclick=\"convertToInteractive('df-863ab4c1-cfd9-420d-9d3c-63fde4a2d9ff')\"\n",
              "              title=\"Convert this dataframe to an interactive table.\"\n",
              "              style=\"display:none;\">\n",
              "        \n",
              "  <svg xmlns=\"http://www.w3.org/2000/svg\" height=\"24px\"viewBox=\"0 0 24 24\"\n",
              "       width=\"24px\">\n",
              "    <path d=\"M0 0h24v24H0V0z\" fill=\"none\"/>\n",
              "    <path d=\"M18.56 5.44l.94 2.06.94-2.06 2.06-.94-2.06-.94-.94-2.06-.94 2.06-2.06.94zm-11 1L8.5 8.5l.94-2.06 2.06-.94-2.06-.94L8.5 2.5l-.94 2.06-2.06.94zm10 10l.94 2.06.94-2.06 2.06-.94-2.06-.94-.94-2.06-.94 2.06-2.06.94z\"/><path d=\"M17.41 7.96l-1.37-1.37c-.4-.4-.92-.59-1.43-.59-.52 0-1.04.2-1.43.59L10.3 9.45l-7.72 7.72c-.78.78-.78 2.05 0 2.83L4 21.41c.39.39.9.59 1.41.59.51 0 1.02-.2 1.41-.59l7.78-7.78 2.81-2.81c.8-.78.8-2.07 0-2.86zM5.41 20L4 18.59l7.72-7.72 1.47 1.35L5.41 20z\"/>\n",
              "  </svg>\n",
              "      </button>\n",
              "      \n",
              "  <style>\n",
              "    .colab-df-container {\n",
              "      display:flex;\n",
              "      flex-wrap:wrap;\n",
              "      gap: 12px;\n",
              "    }\n",
              "\n",
              "    .colab-df-convert {\n",
              "      background-color: #E8F0FE;\n",
              "      border: none;\n",
              "      border-radius: 50%;\n",
              "      cursor: pointer;\n",
              "      display: none;\n",
              "      fill: #1967D2;\n",
              "      height: 32px;\n",
              "      padding: 0 0 0 0;\n",
              "      width: 32px;\n",
              "    }\n",
              "\n",
              "    .colab-df-convert:hover {\n",
              "      background-color: #E2EBFA;\n",
              "      box-shadow: 0px 1px 2px rgba(60, 64, 67, 0.3), 0px 1px 3px 1px rgba(60, 64, 67, 0.15);\n",
              "      fill: #174EA6;\n",
              "    }\n",
              "\n",
              "    [theme=dark] .colab-df-convert {\n",
              "      background-color: #3B4455;\n",
              "      fill: #D2E3FC;\n",
              "    }\n",
              "\n",
              "    [theme=dark] .colab-df-convert:hover {\n",
              "      background-color: #434B5C;\n",
              "      box-shadow: 0px 1px 3px 1px rgba(0, 0, 0, 0.15);\n",
              "      filter: drop-shadow(0px 1px 2px rgba(0, 0, 0, 0.3));\n",
              "      fill: #FFFFFF;\n",
              "    }\n",
              "  </style>\n",
              "\n",
              "      <script>\n",
              "        const buttonEl =\n",
              "          document.querySelector('#df-863ab4c1-cfd9-420d-9d3c-63fde4a2d9ff button.colab-df-convert');\n",
              "        buttonEl.style.display =\n",
              "          google.colab.kernel.accessAllowed ? 'block' : 'none';\n",
              "\n",
              "        async function convertToInteractive(key) {\n",
              "          const element = document.querySelector('#df-863ab4c1-cfd9-420d-9d3c-63fde4a2d9ff');\n",
              "          const dataTable =\n",
              "            await google.colab.kernel.invokeFunction('convertToInteractive',\n",
              "                                                     [key], {});\n",
              "          if (!dataTable) return;\n",
              "\n",
              "          const docLinkHtml = 'Like what you see? Visit the ' +\n",
              "            '<a target=\"_blank\" href=https://colab.research.google.com/notebooks/data_table.ipynb>data table notebook</a>'\n",
              "            + ' to learn more about interactive tables.';\n",
              "          element.innerHTML = '';\n",
              "          dataTable['output_type'] = 'display_data';\n",
              "          await google.colab.output.renderOutput(dataTable, element);\n",
              "          const docLink = document.createElement('div');\n",
              "          docLink.innerHTML = docLinkHtml;\n",
              "          element.appendChild(docLink);\n",
              "        }\n",
              "      </script>\n",
              "    </div>\n",
              "  </div>\n",
              "  "
            ],
            "text/plain": [
              "                 close  Predictions\n",
              "2023-03-16  155.850006   150.028900\n",
              "2023-03-17  155.000000   150.291641\n",
              "2023-03-20  157.399994   150.586960\n",
              "2023-03-21  158.714996   150.957306"
            ]
          },
          "execution_count": 6,
          "metadata": {},
          "output_type": "execute_result"
        }
      ],
      "source": [
        "# Show the valid and predicted prices\n",
        "valid"
      ]
    },
    {
      "cell_type": "code",
      "execution_count": 7,
      "metadata": {
        "colab": {
          "base_uri": "https://localhost:8080/"
        },
        "id": "LY5E-kGeH1HH",
        "outputId": "fb3ff7fa-48e2-428f-f5db-dbf9b0cbe88b"
      },
      "outputs": [
        {
          "name": "stdout",
          "output_type": "stream",
          "text": [
            "[{'date': '2022-11-01', 'close': 150.64999389648438}, {'date': '2022-11-02', 'close': 145.02999877929688}, {'date': '2022-11-03', 'close': 138.8800048828125}, {'date': '2022-11-04', 'close': 138.3800048828125}, {'date': '2022-11-07', 'close': 138.9199981689453}, {'date': '2022-11-08', 'close': 139.5}, {'date': '2022-11-09', 'close': 134.8699951171875}, {'date': '2022-11-10', 'close': 146.8699951171875}, {'date': '2022-11-11', 'close': 149.6999969482422}, {'date': '2022-11-14', 'close': 148.27999877929688}, {'date': '2022-11-15', 'close': 150.0399932861328}, {'date': '2022-11-16', 'close': 148.7899932861328}, {'date': '2022-11-17', 'close': 150.72000122070312}, {'date': '2022-11-18', 'close': 151.2899932861328}, {'date': '2022-11-21', 'close': 148.00999450683594}, {'date': '2022-11-22', 'close': 150.17999267578125}, {'date': '2022-11-23', 'close': 151.07000732421875}, {'date': '2022-11-25', 'close': 148.11000061035156}, {'date': '2022-11-28', 'close': 144.22000122070312}, {'date': '2022-11-29', 'close': 141.1699981689453}, {'date': '2022-11-30', 'close': 148.02999877929688}, {'date': '2022-12-01', 'close': 148.30999755859375}, {'date': '2022-12-02', 'close': 147.80999755859375}, {'date': '2022-12-05', 'close': 146.6300048828125}, {'date': '2022-12-06', 'close': 142.91000366210938}, {'date': '2022-12-07', 'close': 140.94000244140625}, {'date': '2022-12-08', 'close': 142.64999389648438}, {'date': '2022-12-09', 'close': 142.16000366210938}, {'date': '2022-12-12', 'close': 144.49000549316406}, {'date': '2022-12-13', 'close': 145.47000122070312}, {'date': '2022-12-14', 'close': 143.2100067138672}, {'date': '2022-12-15', 'close': 136.5}, {'date': '2022-12-16', 'close': 134.50999450683594}, {'date': '2022-12-19', 'close': 132.3699951171875}, {'date': '2022-12-20', 'close': 132.3000030517578}, {'date': '2022-12-21', 'close': 135.4499969482422}, {'date': '2022-12-22', 'close': 132.22999572753906}, {'date': '2022-12-23', 'close': 131.86000061035156}, {'date': '2022-12-27', 'close': 130.02999877929688}, {'date': '2022-12-28', 'close': 126.04000091552734}, {'date': '2022-12-29', 'close': 129.61000061035156}, {'date': '2022-12-30', 'close': 129.92999267578125}, {'date': '2023-01-03', 'close': 125.06999969482422}, {'date': '2023-01-04', 'close': 126.36000061035156}, {'date': '2023-01-05', 'close': 125.0199966430664}, {'date': '2023-01-06', 'close': 129.6199951171875}, {'date': '2023-01-09', 'close': 130.14999389648438}, {'date': '2023-01-10', 'close': 130.72999572753906}, {'date': '2023-01-11', 'close': 133.49000549316406}, {'date': '2023-01-12', 'close': 133.41000366210938}, {'date': '2023-01-13', 'close': 134.75999450683594}, {'date': '2023-01-17', 'close': 135.94000244140625}, {'date': '2023-01-18', 'close': 135.2100067138672}, {'date': '2023-01-19', 'close': 135.27000427246094}, {'date': '2023-01-20', 'close': 137.8699951171875}, {'date': '2023-01-23', 'close': 141.11000061035156}, {'date': '2023-01-24', 'close': 142.52999877929688}, {'date': '2023-01-25', 'close': 141.86000061035156}, {'date': '2023-01-26', 'close': 143.9600067138672}, {'date': '2023-01-27', 'close': 145.92999267578125}, {'date': '2023-01-30', 'close': 143.0}, {'date': '2023-01-31', 'close': 144.2899932861328}, {'date': '2023-02-01', 'close': 145.42999267578125}, {'date': '2023-02-02', 'close': 150.82000732421875}, {'date': '2023-02-03', 'close': 154.5}, {'date': '2023-02-06', 'close': 151.72999572753906}, {'date': '2023-02-07', 'close': 154.64999389648438}, {'date': '2023-02-08', 'close': 151.9199981689453}, {'date': '2023-02-09', 'close': 150.8699951171875}, {'date': '2023-02-10', 'close': 151.00999450683594}, {'date': '2023-02-13', 'close': 153.85000610351562}, {'date': '2023-02-14', 'close': 153.1999969482422}, {'date': '2023-02-15', 'close': 155.3300018310547}, {'date': '2023-02-16', 'close': 153.7100067138672}, {'date': '2023-02-17', 'close': 152.5500030517578}, {'date': '2023-02-21', 'close': 148.47999572753906}, {'date': '2023-02-22', 'close': 148.91000366210938}, {'date': '2023-02-23', 'close': 149.39999389648438}, {'date': '2023-02-24', 'close': 146.7100067138672}, {'date': '2023-02-27', 'close': 147.9199981689453}, {'date': '2023-02-28', 'close': 147.41000366210938}, {'date': '2023-03-01', 'close': 145.30999755859375}, {'date': '2023-03-02', 'close': 145.91000366210938}, {'date': '2023-03-03', 'close': 151.02999877929688}, {'date': '2023-03-06', 'close': 153.8300018310547}, {'date': '2023-03-07', 'close': 151.60000610351562}, {'date': '2023-03-08', 'close': 152.8699951171875}, {'date': '2023-03-09', 'close': 150.58999633789062}, {'date': '2023-03-10', 'close': 148.5}, {'date': '2023-03-13', 'close': 150.47000122070312}, {'date': '2023-03-14', 'close': 152.58999633789062}, {'date': '2023-03-15', 'close': 152.99000549316406}]\n"
          ]
        }
      ],
      "source": [
        "import json\n",
        "chart_data = []\n",
        "train = train['2022-01-01' :'2023-12-31']\n",
        "for d,v in train.iterrows():\n",
        "            dct ={}\n",
        "            dct[\"date\"] = d.strftime(\"%Y-%m-%d\")\n",
        "            dct[\"close\"] = v.close\n",
        "            chart_data.append(dct)\n",
        "\n",
        "print(chart_data)"
      ]
    },
    {
      "cell_type": "code",
      "execution_count": 10,
      "metadata": {
        "id": "M6OJ7g86VPDQ"
      },
      "outputs": [],
      "source": [
        "chart_data = []\n",
        "for d,v in valid.Predictions.items():\n",
        "            dct ={}\n",
        "            dct[\"date\"] = d.strftime(\"%Y-%m-%d\")\n",
        "            dct[\"close\"] = v\n",
        "            chart_data.append(dct)\n",
        "         "
      ]
    },
    {
      "cell_type": "code",
      "execution_count": 22,
      "metadata": {
        "colab": {
          "base_uri": "https://localhost:8080/"
        },
        "id": "9hGmyJFalyUJ",
        "outputId": "d51ec1d3-6c62-454b-c89f-4905fbd6683e"
      },
      "outputs": [
        {
          "name": "stdout",
          "output_type": "stream",
          "text": [
            "1/1 [==============================] - 0s 22ms/step\n"
          ]
        }
      ],
      "source": [
        "# generate the forecasts\n",
        "X_ = scaled_close_data[- n_lookback:]  # last available input sequence\n",
        "X_ = X_.reshape(1, n_lookback, 1)\n",
        "\n",
        "Y_ = model.predict(X_).reshape(-1, 1)\n",
        "Y_ = scaler.inverse_transform(Y_)"
      ]
    },
    {
      "cell_type": "code",
      "execution_count": 18,
      "metadata": {
        "colab": {
          "base_uri": "https://localhost:8080/"
        },
        "id": "PVkUvmkbvHBI",
        "outputId": "e65898d1-66a9-4238-a93e-b8ca8a1c7b15"
      },
      "outputs": [
        {
          "data": {
            "text/plain": [
              "1"
            ]
          },
          "execution_count": 18,
          "metadata": {},
          "output_type": "execute_result"
        }
      ],
      "source": [
        "Y_.size"
      ]
    },
    {
      "cell_type": "code",
      "execution_count": 19,
      "metadata": {
        "colab": {
          "base_uri": "https://localhost:8080/"
        },
        "id": "mvXybJc0OHoB",
        "outputId": "f36fe8e9-cac0-4ab3-ecab-4d205717fa48"
      },
      "outputs": [
        {
          "data": {
            "text/plain": [
              "60"
            ]
          },
          "execution_count": 19,
          "metadata": {},
          "output_type": "execute_result"
        }
      ],
      "source": [
        "X_.size"
      ]
    },
    {
      "cell_type": "code",
      "execution_count": 13,
      "metadata": {
        "colab": {
          "base_uri": "https://localhost:8080/",
          "height": 381
        },
        "id": "AwUlM9Hxl6Ia",
        "outputId": "ab0e228c-baf0-4c58-c129-da0a37f43818"
      },
      "outputs": [
        {
          "ename": "ValueError",
          "evalue": "ignored",
          "output_type": "error",
          "traceback": [
            "\u001b[0;31m---------------------------------------------------------------------------\u001b[0m",
            "\u001b[0;31mValueError\u001b[0m                                Traceback (most recent call last)",
            "\u001b[0;32m<ipython-input-13-fb4bf6885c4e>\u001b[0m in \u001b[0;36m<module>\u001b[0;34m\u001b[0m\n\u001b[1;32m      9\u001b[0m \u001b[0mdf_future\u001b[0m \u001b[0;34m=\u001b[0m \u001b[0mpd\u001b[0m\u001b[0;34m.\u001b[0m\u001b[0mDataFrame\u001b[0m\u001b[0;34m(\u001b[0m\u001b[0mcolumns\u001b[0m\u001b[0;34m=\u001b[0m\u001b[0;34m[\u001b[0m\u001b[0;34m'Date'\u001b[0m\u001b[0;34m,\u001b[0m \u001b[0;34m'Actual'\u001b[0m\u001b[0;34m,\u001b[0m \u001b[0;34m'Forecast'\u001b[0m\u001b[0;34m]\u001b[0m\u001b[0;34m)\u001b[0m\u001b[0;34m\u001b[0m\u001b[0;34m\u001b[0m\u001b[0m\n\u001b[1;32m     10\u001b[0m \u001b[0mdf_future\u001b[0m\u001b[0;34m[\u001b[0m\u001b[0;34m'Date'\u001b[0m\u001b[0;34m]\u001b[0m \u001b[0;34m=\u001b[0m \u001b[0mpd\u001b[0m\u001b[0;34m.\u001b[0m\u001b[0mdate_range\u001b[0m\u001b[0;34m(\u001b[0m\u001b[0mstart\u001b[0m\u001b[0;34m=\u001b[0m\u001b[0mdf_past\u001b[0m\u001b[0;34m[\u001b[0m\u001b[0;34m'Date'\u001b[0m\u001b[0;34m]\u001b[0m\u001b[0;34m.\u001b[0m\u001b[0miloc\u001b[0m\u001b[0;34m[\u001b[0m\u001b[0;34m-\u001b[0m\u001b[0;36m1\u001b[0m\u001b[0;34m]\u001b[0m \u001b[0;34m+\u001b[0m \u001b[0mpd\u001b[0m\u001b[0;34m.\u001b[0m\u001b[0mTimedelta\u001b[0m\u001b[0;34m(\u001b[0m\u001b[0mdays\u001b[0m\u001b[0;34m=\u001b[0m\u001b[0;36m1\u001b[0m\u001b[0;34m)\u001b[0m\u001b[0;34m,\u001b[0m \u001b[0mperiods\u001b[0m\u001b[0;34m=\u001b[0m\u001b[0mn_forecast\u001b[0m\u001b[0;34m)\u001b[0m\u001b[0;34m\u001b[0m\u001b[0;34m\u001b[0m\u001b[0m\n\u001b[0;32m---> 11\u001b[0;31m \u001b[0mdf_future\u001b[0m\u001b[0;34m[\u001b[0m\u001b[0;34m'Forecast'\u001b[0m\u001b[0;34m]\u001b[0m \u001b[0;34m=\u001b[0m \u001b[0mY_\u001b[0m\u001b[0;34m.\u001b[0m\u001b[0mflatten\u001b[0m\u001b[0;34m(\u001b[0m\u001b[0;34m)\u001b[0m\u001b[0;34m\u001b[0m\u001b[0;34m\u001b[0m\u001b[0m\n\u001b[0m\u001b[1;32m     12\u001b[0m \u001b[0mdf_future\u001b[0m\u001b[0;34m[\u001b[0m\u001b[0;34m'Actual'\u001b[0m\u001b[0;34m]\u001b[0m \u001b[0;34m=\u001b[0m \u001b[0mnp\u001b[0m\u001b[0;34m.\u001b[0m\u001b[0mnan\u001b[0m\u001b[0;34m\u001b[0m\u001b[0;34m\u001b[0m\u001b[0m\n\u001b[1;32m     13\u001b[0m \u001b[0;34m\u001b[0m\u001b[0m\n",
            "\u001b[0;32m/usr/local/lib/python3.9/dist-packages/pandas/core/frame.py\u001b[0m in \u001b[0;36m__setitem__\u001b[0;34m(self, key, value)\u001b[0m\n\u001b[1;32m   3653\u001b[0m         \u001b[0;32melse\u001b[0m\u001b[0;34m:\u001b[0m\u001b[0;34m\u001b[0m\u001b[0;34m\u001b[0m\u001b[0m\n\u001b[1;32m   3654\u001b[0m             \u001b[0;31m# set column\u001b[0m\u001b[0;34m\u001b[0m\u001b[0;34m\u001b[0m\u001b[0m\n\u001b[0;32m-> 3655\u001b[0;31m             \u001b[0mself\u001b[0m\u001b[0;34m.\u001b[0m\u001b[0m_set_item\u001b[0m\u001b[0;34m(\u001b[0m\u001b[0mkey\u001b[0m\u001b[0;34m,\u001b[0m \u001b[0mvalue\u001b[0m\u001b[0;34m)\u001b[0m\u001b[0;34m\u001b[0m\u001b[0;34m\u001b[0m\u001b[0m\n\u001b[0m\u001b[1;32m   3656\u001b[0m \u001b[0;34m\u001b[0m\u001b[0m\n\u001b[1;32m   3657\u001b[0m     \u001b[0;32mdef\u001b[0m \u001b[0m_setitem_slice\u001b[0m\u001b[0;34m(\u001b[0m\u001b[0mself\u001b[0m\u001b[0;34m,\u001b[0m \u001b[0mkey\u001b[0m\u001b[0;34m:\u001b[0m \u001b[0mslice\u001b[0m\u001b[0;34m,\u001b[0m \u001b[0mvalue\u001b[0m\u001b[0;34m)\u001b[0m\u001b[0;34m:\u001b[0m\u001b[0;34m\u001b[0m\u001b[0;34m\u001b[0m\u001b[0m\n",
            "\u001b[0;32m/usr/local/lib/python3.9/dist-packages/pandas/core/frame.py\u001b[0m in \u001b[0;36m_set_item\u001b[0;34m(self, key, value)\u001b[0m\n\u001b[1;32m   3830\u001b[0m         \u001b[0mensure\u001b[0m \u001b[0mhomogeneity\u001b[0m\u001b[0;34m.\u001b[0m\u001b[0;34m\u001b[0m\u001b[0;34m\u001b[0m\u001b[0m\n\u001b[1;32m   3831\u001b[0m         \"\"\"\n\u001b[0;32m-> 3832\u001b[0;31m         \u001b[0mvalue\u001b[0m \u001b[0;34m=\u001b[0m \u001b[0mself\u001b[0m\u001b[0;34m.\u001b[0m\u001b[0m_sanitize_column\u001b[0m\u001b[0;34m(\u001b[0m\u001b[0mvalue\u001b[0m\u001b[0;34m)\u001b[0m\u001b[0;34m\u001b[0m\u001b[0;34m\u001b[0m\u001b[0m\n\u001b[0m\u001b[1;32m   3833\u001b[0m \u001b[0;34m\u001b[0m\u001b[0m\n\u001b[1;32m   3834\u001b[0m         if (\n",
            "\u001b[0;32m/usr/local/lib/python3.9/dist-packages/pandas/core/frame.py\u001b[0m in \u001b[0;36m_sanitize_column\u001b[0;34m(self, value)\u001b[0m\n\u001b[1;32m   4536\u001b[0m \u001b[0;34m\u001b[0m\u001b[0m\n\u001b[1;32m   4537\u001b[0m         \u001b[0;32mif\u001b[0m \u001b[0mis_list_like\u001b[0m\u001b[0;34m(\u001b[0m\u001b[0mvalue\u001b[0m\u001b[0;34m)\u001b[0m\u001b[0;34m:\u001b[0m\u001b[0;34m\u001b[0m\u001b[0;34m\u001b[0m\u001b[0m\n\u001b[0;32m-> 4538\u001b[0;31m             \u001b[0mcom\u001b[0m\u001b[0;34m.\u001b[0m\u001b[0mrequire_length_match\u001b[0m\u001b[0;34m(\u001b[0m\u001b[0mvalue\u001b[0m\u001b[0;34m,\u001b[0m \u001b[0mself\u001b[0m\u001b[0;34m.\u001b[0m\u001b[0mindex\u001b[0m\u001b[0;34m)\u001b[0m\u001b[0;34m\u001b[0m\u001b[0;34m\u001b[0m\u001b[0m\n\u001b[0m\u001b[1;32m   4539\u001b[0m         \u001b[0;32mreturn\u001b[0m \u001b[0msanitize_array\u001b[0m\u001b[0;34m(\u001b[0m\u001b[0mvalue\u001b[0m\u001b[0;34m,\u001b[0m \u001b[0mself\u001b[0m\u001b[0;34m.\u001b[0m\u001b[0mindex\u001b[0m\u001b[0;34m,\u001b[0m \u001b[0mcopy\u001b[0m\u001b[0;34m=\u001b[0m\u001b[0;32mTrue\u001b[0m\u001b[0;34m,\u001b[0m \u001b[0mallow_2d\u001b[0m\u001b[0;34m=\u001b[0m\u001b[0;32mTrue\u001b[0m\u001b[0;34m)\u001b[0m\u001b[0;34m\u001b[0m\u001b[0;34m\u001b[0m\u001b[0m\n\u001b[1;32m   4540\u001b[0m \u001b[0;34m\u001b[0m\u001b[0m\n",
            "\u001b[0;32m/usr/local/lib/python3.9/dist-packages/pandas/core/common.py\u001b[0m in \u001b[0;36mrequire_length_match\u001b[0;34m(data, index)\u001b[0m\n\u001b[1;32m    555\u001b[0m     \"\"\"\n\u001b[1;32m    556\u001b[0m     \u001b[0;32mif\u001b[0m \u001b[0mlen\u001b[0m\u001b[0;34m(\u001b[0m\u001b[0mdata\u001b[0m\u001b[0;34m)\u001b[0m \u001b[0;34m!=\u001b[0m \u001b[0mlen\u001b[0m\u001b[0;34m(\u001b[0m\u001b[0mindex\u001b[0m\u001b[0;34m)\u001b[0m\u001b[0;34m:\u001b[0m\u001b[0;34m\u001b[0m\u001b[0;34m\u001b[0m\u001b[0m\n\u001b[0;32m--> 557\u001b[0;31m         raise ValueError(\n\u001b[0m\u001b[1;32m    558\u001b[0m             \u001b[0;34m\"Length of values \"\u001b[0m\u001b[0;34m\u001b[0m\u001b[0;34m\u001b[0m\u001b[0m\n\u001b[1;32m    559\u001b[0m             \u001b[0;34mf\"({len(data)}) \"\u001b[0m\u001b[0;34m\u001b[0m\u001b[0;34m\u001b[0m\u001b[0m\n",
            "\u001b[0;31mValueError\u001b[0m: Length of values (1) does not match length of index (30)"
          ]
        }
      ],
      "source": [
        "df_past = data_frame[['close']].reset_index()\n",
        "df_past.rename(columns={'index': 'Date', 'close': 'Actual'}, inplace=True)\n",
        "\n",
        "df_past['Date'] = pd.to_datetime(df_past['Date'])\n",
        "df_past['Forecast'] = np.nan\n",
        "df_past['Forecast'].iloc[-1] = df_past['Actual'].iloc[-1]\n",
        "\n",
        "\n",
        "df_future = pd.DataFrame(columns=['Date', 'Actual', 'Forecast'])\n",
        "df_future['Date'] = pd.date_range(start=df_past['Date'].iloc[-1] + pd.Timedelta(days=1), periods=n_forecast)\n",
        "df_future['Forecast'] = Y_.flatten()\n",
        "df_future['Actual'] = np.nan\n",
        "\n",
        "results = df_past.append(df_future).set_index('Date')\n",
        "\n",
        "# plot the results\n",
        "results.plot(title=stock_name)"
      ]
    }
  ],
  "metadata": {
    "accelerator": "GPU",
    "colab": {
      "provenance": []
    },
    "gpuClass": "standard",
    "kernelspec": {
      "display_name": "Python 3",
      "name": "python3"
    },
    "language_info": {
      "name": "python"
    }
  },
  "nbformat": 4,
  "nbformat_minor": 0
}
