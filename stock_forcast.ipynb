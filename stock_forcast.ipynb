{
  "cells": [
    {
      "cell_type": "code",
      "execution_count": 14,
      "metadata": {
        "id": "uiV4th-1SEpJ"
      },
      "outputs": [],
      "source": [
        "# https://www.geeksforgeeks.org/stock-price-prediction-project-using-tensorflow/\n",
        "# https://algotrading101.com/learn/yahoo-finance-api-guide/\n",
        "# https://www.projectpro.io/article/stock-price-prediction-using-machine-learning-project/571#:~:text=FAQs-,Which%20machine%20learning%20algorithm%20is%20best%20for%20stock%20price%20prediction,into%20a%20classical%20ANN%20regressor.\n",
        "# https://colab.research.google.com/drive/11rGLUR_2VG1cE03u-EoQpXHx5Jz4Lzwr\n",
        "# https://colab.research.google.com/drive/1po08kK-dqJsLsRVeD18YlKuTwJP0aLU1\n",
        "# https://machinelearningmastery.com/time-series-prediction-lstm-recurrent-neural-networks-python-keras/\n",
        "# https://keras.io/examples/timeseries/timeseries_traffic_forecasting/\n",
        "# https://wandb.ai/ayush-thakur/dl-question-bank/reports/LSTM-RNN-in-Keras-Examples-of-One-to-Many-Many-to-One-Many-to-Many---VmlldzoyMDIzOTM\n",
        "# https://www.analyticsvidhya.com/blog/2022/11/analyzing-and-comparing-deep-learning-models/\n",
        "# https://www.tensorflow.org/guide/keras/rnn?hl=tr\n",
        "# https://machinelearningmastery.com/evaluate-performance-deep-learning-models-keras/#:~:text=Keras%20can%20separate%20a%20portion,size%20of%20your%20training%20dataset.\n",
        "# https://www.kaggle.com/code/faressayah/stock-market-analysis-prediction-using-lstm\n",
        "\n",
        "try:\n",
        "    import yahoo_fin.stock_info as si\n",
        "except:\n",
        "    !pip install yahoo_fin\n",
        "    import yahoo_fin.stock_info as si\n",
        "\n",
        "import tensorflow as tf\n",
        "import datetime as dt\n",
        "from tensorflow import keras\n",
        "from sklearn.preprocessing import MinMaxScaler\n",
        "import pandas as pd\n",
        "import matplotlib.pyplot as plt\n",
        "import numpy as np\n",
        "import seaborn as sns\n",
        "import os\n",
        "import warnings\n",
        "\n",
        "import pandas as pd\n",
        "import requests\n",
        "\n",
        "warnings.filterwarnings(\"ignore\")"
      ]
    },
    {
      "cell_type": "code",
      "execution_count": 15,
      "metadata": {
        "colab": {
          "base_uri": "https://localhost:8080/"
        },
        "id": "xCVi0NDKSWCy",
        "outputId": "62375827-b0ee-4d79-a02f-085496d5b839"
      },
      "outputs": [
        {
          "output_type": "stream",
          "name": "stdout",
          "text": [
            "[array([0.7567099 , 0.590783  , 0.40920821, 0.39444602, 0.41038899,\n",
            "       0.42751319, 0.29081514, 0.64510776, 0.72866182, 0.68673725,\n",
            "       0.73870001, 0.70179452, 0.75877682, 0.77560549, 0.67876554,\n",
            "       0.7428334 , 0.76911054, 0.68171816, 0.56686832, 0.47681886,\n",
            "       0.67935615, 0.68762295, 0.67286075, 0.6380222 , 0.52819145,\n",
            "       0.47002838, 0.52051482, 0.50604816, 0.57484003, 0.6037738 ,\n",
            "       0.53704885, 0.33894004, 0.28018635, 0.21700418, 0.21493771,\n",
            "       0.30793934, 0.21287079, 0.20194691, 0.14791723, 0.030115  ,\n",
            "       0.13551704, 0.14496461, 0.00147631, 0.03956279, 0.        ,\n",
            "       0.13581212, 0.15146001, 0.16858421, 0.2500718 , 0.24770979,\n",
            "       0.28756744, 0.32240645, 0.30085378, 0.30262517, 0.3793883 ,\n",
            "       0.47504747, 0.51697204, 0.49719075, 0.55919214, 0.61735477])]\n",
            "[0.5308485354826686]\n",
            "\n",
            "[array([0.7567099 , 0.590783  , 0.40920821, 0.39444602, 0.41038899,\n",
            "       0.42751319, 0.29081514, 0.64510776, 0.72866182, 0.68673725,\n",
            "       0.73870001, 0.70179452, 0.75877682, 0.77560549, 0.67876554,\n",
            "       0.7428334 , 0.76911054, 0.68171816, 0.56686832, 0.47681886,\n",
            "       0.67935615, 0.68762295, 0.67286075, 0.6380222 , 0.52819145,\n",
            "       0.47002838, 0.52051482, 0.50604816, 0.57484003, 0.6037738 ,\n",
            "       0.53704885, 0.33894004, 0.28018635, 0.21700418, 0.21493771,\n",
            "       0.30793934, 0.21287079, 0.20194691, 0.14791723, 0.030115  ,\n",
            "       0.13551704, 0.14496461, 0.00147631, 0.03956279, 0.        ,\n",
            "       0.13581212, 0.15146001, 0.16858421, 0.2500718 , 0.24770979,\n",
            "       0.28756744, 0.32240645, 0.30085378, 0.30262517, 0.3793883 ,\n",
            "       0.47504747, 0.51697204, 0.49719075, 0.55919214, 0.61735477]), array([0.590783  , 0.40920821, 0.39444602, 0.41038899, 0.42751319,\n",
            "       0.29081514, 0.64510776, 0.72866182, 0.68673725, 0.73870001,\n",
            "       0.70179452, 0.75877682, 0.77560549, 0.67876554, 0.7428334 ,\n",
            "       0.76911054, 0.68171816, 0.56686832, 0.47681886, 0.67935615,\n",
            "       0.68762295, 0.67286075, 0.6380222 , 0.52819145, 0.47002838,\n",
            "       0.52051482, 0.50604816, 0.57484003, 0.6037738 , 0.53704885,\n",
            "       0.33894004, 0.28018635, 0.21700418, 0.21493771, 0.30793934,\n",
            "       0.21287079, 0.20194691, 0.14791723, 0.030115  , 0.13551704,\n",
            "       0.14496461, 0.00147631, 0.03956279, 0.        , 0.13581212,\n",
            "       0.15146001, 0.16858421, 0.2500718 , 0.24770979, 0.28756744,\n",
            "       0.32240645, 0.30085378, 0.30262517, 0.3793883 , 0.47504747,\n",
            "       0.51697204, 0.49719075, 0.55919214, 0.61735477, 0.53084854])]\n",
            "[0.5308485354826686, 0.5689347934845062]\n",
            "\n"
          ]
        }
      ],
      "source": [
        "# name of the stock and time interval to forcast\n",
        "stock_name  = \"AAPL\"\n",
        "Start_Date = \"2022-11-01\"\n",
        "End_Date = dt.datetime.now()\n",
        "\n",
        "# Sets the global random seed.\n",
        "tf.random.set_seed(0)\n",
        "\n",
        "# download the data fromm yahoo fin\n",
        "yf_data = si.get_data(stock_name, start_date= Start_Date, end_date= End_Date, index_as_date = True, interval = \"1d\")\n",
        "\n",
        "# pre process\n",
        "data_frame = pd.DataFrame(data=yf_data)\n",
        "data_frame['close'].fillna(method='ffill')\n",
        "\n",
        "# get close data\n",
        "close_data_frame = data_frame.filter(['close'])\n",
        "close_data = close_data_frame.values\n",
        "\n",
        "# scale the data\n",
        "scaler = MinMaxScaler(feature_range=(0, 1))\n",
        "scaled_close_data = scaler.fit_transform(close_data)\n",
        "\n",
        "# Get the number of rows to train the model on\n",
        "training_data_len = int(np.ceil( len(close_data) * .95 ))\n",
        "\n",
        "# Create the training data set \n",
        "# Create the scaled training data set\n",
        "train_data = scaled_close_data[0:int(training_data_len), :]\n",
        "\n",
        "# generate the input and output sequences\n",
        "n_lookback = 60  # length of input sequences (lookback period)\n",
        "n_forecast = 30  # length of output sequences (forecast period)\n",
        "\n",
        "# Split the data into x_train and y_train data sets\n",
        "x_train = []\n",
        "y_train = []\n",
        "\n",
        "for i in range(n_lookback, len(train_data)):\n",
        "    x_train.append(train_data[i-n_lookback:i, 0])\n",
        "    y_train.append(train_data[i, 0])\n",
        "    if i<= n_lookback+1:\n",
        "        print(x_train)\n",
        "        print(y_train)\n",
        "        print()\n",
        "\n",
        "# Convert the x_train and y_train to numpy arrays \n",
        "x_train, y_train = np.array(x_train), np.array(y_train)\n",
        "\n",
        "# Reshape the data\n",
        "x_train = np.reshape(x_train, (x_train.shape[0], x_train.shape[1], 1))"
      ]
    },
    {
      "cell_type": "code",
      "source": [
        "from keras.models import Sequential\n",
        "from keras.layers import Dense, LSTM\n",
        "\n",
        "# Build the LSTM model\n",
        "model = Sequential()\n",
        "model.add(LSTM(128, return_sequences=True, input_shape= (x_train.shape[1], 1)))\n",
        "model.add(LSTM(64, return_sequences=False))\n",
        "model.add(Dense(25))\n",
        "model.add(Dense(1))\n",
        "\n",
        "# Compile the model\n",
        "model.compile(optimizer='adam', loss='mean_squared_error')\n",
        "\n",
        "# Train the model\n",
        "model.fit(x_train, y_train, batch_size=1, epochs=1)"
      ],
      "metadata": {
        "colab": {
          "base_uri": "https://localhost:8080/"
        },
        "id": "j1uIXWh_FyGa",
        "outputId": "ce074845-f761-406c-af7d-3a94d33368a9"
      },
      "execution_count": 16,
      "outputs": [
        {
          "output_type": "stream",
          "name": "stdout",
          "text": [
            "32/32 [==============================] - 5s 34ms/step - loss: 0.0791\n"
          ]
        },
        {
          "output_type": "execute_result",
          "data": {
            "text/plain": [
              "<keras.callbacks.History at 0x7fd92f62d2b0>"
            ]
          },
          "metadata": {},
          "execution_count": 16
        }
      ]
    },
    {
      "cell_type": "code",
      "source": [
        "# Create the testing data set\n",
        "# Create a new array containing scaled values from index 1543 to 2002 \n",
        "test_data = scaled_close_data[training_data_len - n_lookback: , :]\n",
        "# Create the data sets x_test and y_test\n",
        "x_test = []\n",
        "y_test = close_data[training_data_len:, :]\n",
        "for i in range(n_lookback, len(test_data)):\n",
        "    x_test.append(test_data[i-n_lookback:i, 0])\n",
        "    \n",
        "# Convert the data to a numpy array\n",
        "x_test = np.array(x_test)\n",
        "\n",
        "# Reshape the data\n",
        "x_test = np.reshape(x_test, (x_test.shape[0], x_test.shape[1], 1 ))\n",
        "\n",
        "# Get the models predicted price values \n",
        "predictions = model.predict(x_test)\n",
        "predictions = scaler.inverse_transform(predictions)\n",
        "\n",
        "# Get the root mean squared error (RMSE)\n",
        "rmse = np.sqrt(np.mean(((predictions - y_test) ** 2)))\n",
        "rmse"
      ],
      "metadata": {
        "colab": {
          "base_uri": "https://localhost:8080/"
        },
        "id": "hNq8CyhPF6mC",
        "outputId": "087276a7-7e02-481e-9ce8-2f1e18e4dd00"
      },
      "execution_count": 17,
      "outputs": [
        {
          "output_type": "stream",
          "name": "stdout",
          "text": [
            "1/1 [==============================] - 1s 775ms/step\n"
          ]
        },
        {
          "output_type": "execute_result",
          "data": {
            "text/plain": [
              "6.968135854906719"
            ]
          },
          "metadata": {},
          "execution_count": 17
        }
      ]
    },
    {
      "cell_type": "code",
      "source": [
        "# Plot the data\n",
        "train = close_data_frame[:training_data_len]\n",
        "valid = close_data_frame[training_data_len:]\n",
        "valid['Predictions'] = predictions\n",
        "# Visualize the data\n",
        "plt.figure(figsize=(16,6))\n",
        "plt.title('Model')\n",
        "plt.xlabel('Date', fontsize=18)\n",
        "plt.ylabel('Close Price USD ($)', fontsize=18)\n",
        "plt.plot(train['close'])\n",
        "plt.plot(valid[['close', 'Predictions']])\n",
        "plt.legend(['Train', 'Val', 'Predictions'], loc='lower right')\n",
        "plt.show()"
      ],
      "metadata": {
        "colab": {
          "base_uri": "https://localhost:8080/",
          "height": 412
        },
        "id": "ZjE0JlN0GszV",
        "outputId": "26e18045-0e0b-4ad3-e8da-41a16ee00fcb"
      },
      "execution_count": 18,
      "outputs": [
        {
          "output_type": "display_data",
          "data": {
            "text/plain": [
              "<Figure size 1152x432 with 1 Axes>"
            ],
            "image/png": "[encoded data removed]"
          },
          "metadata": {
            "needs_background": "light"
          }
        }
      ]
    },
    {
      "cell_type": "code",
      "source": [
        "# Show the valid and predicted prices\n",
        "valid"
      ],
      "metadata": {
        "colab": {
          "base_uri": "https://localhost:8080/",
          "height": 175
        },
        "id": "W82S3SphR2aJ",
        "outputId": "3df6ba24-0b27-4c00-bde8-a026b3fdcef4"
      },
      "execution_count": 19,
      "outputs": [
        {
          "output_type": "execute_result",
          "data": {
            "text/plain": [
              "                 close  Predictions\n",
              "2023-03-16  155.850006   149.481537\n",
              "2023-03-17  155.000000   149.744598\n",
              "2023-03-20  157.399994   150.039917\n",
              "2023-03-21  158.890305   150.412552"
            ],
            "text/html": [
              "\n",
              "  <div id=\"df-45e5cb4a-c4ea-4ed2-9b33-0889ee541ac2\">\n",
              "    <div class=\"colab-df-container\">\n",
              "      <div>\n",
              "<style scoped>\n",
              "    .dataframe tbody tr th:only-of-type {\n",
              "        vertical-align: middle;\n",
              "    }\n",
              "\n",
              "    .dataframe tbody tr th {\n",
              "        vertical-align: top;\n",
              "    }\n",
              "\n",
              "    .dataframe thead th {\n",
              "        text-align: right;\n",
              "    }\n",
              "</style>\n",
              "<table border=\"1\" class=\"dataframe\">\n",
              "  <thead>\n",
              "    <tr style=\"text-align: right;\">\n",
              "      <th></th>\n",
              "      <th>close</th>\n",
              "      <th>Predictions</th>\n",
              "    </tr>\n",
              "  </thead>\n",
              "  <tbody>\n",
              "    <tr>\n",
              "      <th>2023-03-16</th>\n",
              "      <td>155.850006</td>\n",
              "      <td>149.481537</td>\n",
              "    </tr>\n",
              "    <tr>\n",
              "      <th>2023-03-17</th>\n",
              "      <td>155.000000</td>\n",
              "      <td>149.744598</td>\n",
              "    </tr>\n",
              "    <tr>\n",
              "      <th>2023-03-20</th>\n",
              "      <td>157.399994</td>\n",
              "      <td>150.039917</td>\n",
              "    </tr>\n",
              "    <tr>\n",
              "      <th>2023-03-21</th>\n",
              "      <td>158.890305</td>\n",
              "      <td>150.412552</td>\n",
              "    </tr>\n",
              "  </tbody>\n",
              "</table>\n",
              "</div>\n",
              "      <button class=\"colab-df-convert\" onclick=\"convertToInteractive('df-45e5cb4a-c4ea-4ed2-9b33-0889ee541ac2')\"\n",
              "              title=\"Convert this dataframe to an interactive table.\"\n",
              "              style=\"display:none;\">\n",
              "        \n",
              "  <svg xmlns=\"http://www.w3.org/2000/svg\" height=\"24px\"viewBox=\"0 0 24 24\"\n",
              "       width=\"24px\">\n",
              "    <path d=\"M0 0h24v24H0V0z\" fill=\"none\"/>\n",
              "    <path d=\"M18.56 5.44l.94 2.06.94-2.06 2.06-.94-2.06-.94-.94-2.06-.94 2.06-2.06.94zm-11 1L8.5 8.5l.94-2.06 2.06-.94-2.06-.94L8.5 2.5l-.94 2.06-2.06.94zm10 10l.94 2.06.94-2.06 2.06-.94-2.06-.94-.94-2.06-.94 2.06-2.06.94z\"/><path d=\"M17.41 7.96l-1.37-1.37c-.4-.4-.92-.59-1.43-.59-.52 0-1.04.2-1.43.59L10.3 9.45l-7.72 7.72c-.78.78-.78 2.05 0 2.83L4 21.41c.39.39.9.59 1.41.59.51 0 1.02-.2 1.41-.59l7.78-7.78 2.81-2.81c.8-.78.8-2.07 0-2.86zM5.41 20L4 18.59l7.72-7.72 1.47 1.35L5.41 20z\"/>\n",
              "  </svg>\n",
              "      </button>\n",
              "      \n",
              "  <style>\n",
              "    .colab-df-container {\n",
              "      display:flex;\n",
              "      flex-wrap:wrap;\n",
              "      gap: 12px;\n",
              "    }\n",
              "\n",
              "    .colab-df-convert {\n",
              "      background-color: #E8F0FE;\n",
              "      border: none;\n",
              "      border-radius: 50%;\n",
              "      cursor: pointer;\n",
              "      display: none;\n",
              "      fill: #1967D2;\n",
              "      height: 32px;\n",
              "      padding: 0 0 0 0;\n",
              "      width: 32px;\n",
              "    }\n",
              "\n",
              "    .colab-df-convert:hover {\n",
              "      background-color: #E2EBFA;\n",
              "      box-shadow: 0px 1px 2px rgba(60, 64, 67, 0.3), 0px 1px 3px 1px rgba(60, 64, 67, 0.15);\n",
              "      fill: #174EA6;\n",
              "    }\n",
              "\n",
              "    [theme=dark] .colab-df-convert {\n",
              "      background-color: #3B4455;\n",
              "      fill: #D2E3FC;\n",
              "    }\n",
              "\n",
              "    [theme=dark] .colab-df-convert:hover {\n",
              "      background-color: #434B5C;\n",
              "      box-shadow: 0px 1px 3px 1px rgba(0, 0, 0, 0.15);\n",
              "      filter: drop-shadow(0px 1px 2px rgba(0, 0, 0, 0.3));\n",
              "      fill: #FFFFFF;\n",
              "    }\n",
              "  </style>\n",
              "\n",
              "      <script>\n",
              "        const buttonEl =\n",
              "          document.querySelector('#df-45e5cb4a-c4ea-4ed2-9b33-0889ee541ac2 button.colab-df-convert');\n",
              "        buttonEl.style.display =\n",
              "          google.colab.kernel.accessAllowed ? 'block' : 'none';\n",
              "\n",
              "        async function convertToInteractive(key) {\n",
              "          const element = document.querySelector('#df-45e5cb4a-c4ea-4ed2-9b33-0889ee541ac2');\n",
              "          const dataTable =\n",
              "            await google.colab.kernel.invokeFunction('convertToInteractive',\n",
              "                                                     [key], {});\n",
              "          if (!dataTable) return;\n",
              "\n",
              "          const docLinkHtml = 'Like what you see? Visit the ' +\n",
              "            '<a target=\"_blank\" href=https://colab.research.google.com/notebooks/data_table.ipynb>data table notebook</a>'\n",
              "            + ' to learn more about interactive tables.';\n",
              "          element.innerHTML = '';\n",
              "          dataTable['output_type'] = 'display_data';\n",
              "          await google.colab.output.renderOutput(dataTable, element);\n",
              "          const docLink = document.createElement('div');\n",
              "          docLink.innerHTML = docLinkHtml;\n",
              "          element.appendChild(docLink);\n",
              "        }\n",
              "      </script>\n",
              "    </div>\n",
              "  </div>\n",
              "  "
            ]
          },
          "metadata": {},
          "execution_count": 19
        }
      ]
    },
    {
      "cell_type": "code",
      "source": [
        "import json\n",
        "chart_data = []\n",
        "year = dt.datetime.now().year\n",
        "start_date = dt.date(year, 1, 1)\n",
        "end_date = dt.date(year+1, 1, 1)\n",
        "temp = close_data_frame[start_date : end_date]\n",
        "for d,v in temp.iterrows():\n",
        "            dct ={}\n",
        "            dct[\"date\"] = d.strftime(\"%Y-%m-%d\")\n",
        "            dct[\"close\"] = v.close\n",
        "            chart_data.append(dct)"
      ],
      "metadata": {
        "id": "LY5E-kGeH1HH"
      },
      "execution_count": 32,
      "outputs": []
    },
    {
      "cell_type": "code",
      "source": [
        "chart_data = []\n",
        "for d,v in valid.Predictions.items():\n",
        "            dct ={}\n",
        "            dct[\"date\"] = d.strftime(\"%Y-%m-%d\")\n",
        "            dct[\"close\"] = v\n",
        "            chart_data.append(dct)\n",
        "         "
      ],
      "metadata": {
        "id": "M6OJ7g86VPDQ"
      },
      "execution_count": 21,
      "outputs": []
    },
    {
      "cell_type": "code",
      "source": [
        "# generate the forecasts\n",
        "X_ = scaled_close_data[- n_lookback:]  # last available input sequence\n",
        "X_ = X_.reshape(1, n_lookback, 1)\n",
        "\n",
        "Y_ = model.predict(X_).reshape(-1, 1)\n",
        "Y_ = scaler.inverse_transform(Y_)"
      ],
      "metadata": {
        "colab": {
          "base_uri": "https://localhost:8080/"
        },
        "id": "9hGmyJFalyUJ",
        "outputId": "1582d66d-e122-4c62-d699-c84a746d3b13"
      },
      "execution_count": 22,
      "outputs": [
        {
          "output_type": "stream",
          "name": "stdout",
          "text": [
            "1/1 [==============================] - 0s 30ms/step\n"
          ]
        }
      ]
    },
    {
      "cell_type": "code",
      "source": [
        "Y_.size"
      ],
      "metadata": {
        "colab": {
          "base_uri": "https://localhost:8080/"
        },
        "id": "PVkUvmkbvHBI",
        "outputId": "0ea980cc-e516-4df3-fbaa-a068f3dc70e7"
      },
      "execution_count": 23,
      "outputs": [
        {
          "output_type": "execute_result",
          "data": {
            "text/plain": [
              "1"
            ]
          },
          "metadata": {},
          "execution_count": 23
        }
      ]
    },
    {
      "cell_type": "code",
      "source": [
        "X_.size"
      ],
      "metadata": {
        "colab": {
          "base_uri": "https://localhost:8080/"
        },
        "id": "mvXybJc0OHoB",
        "outputId": "6da7a03d-11dd-470b-b8b8-ff938695a67c"
      },
      "execution_count": 24,
      "outputs": [
        {
          "output_type": "execute_result",
          "data": {
            "text/plain": [
              "60"
            ]
          },
          "metadata": {},
          "execution_count": 24
        }
      ]
    },
    {
      "cell_type": "code",
      "source": [
        "df_past = data_frame[['close']].reset_index()\n",
        "df_past.rename(columns={'index': 'Date', 'close': 'Actual'}, inplace=True)\n",
        "\n",
        "df_past['Date'] = pd.to_datetime(df_past['Date'])\n",
        "df_past['Forecast'] = np.nan\n",
        "df_past['Forecast'].iloc[-1] = df_past['Actual'].iloc[-1]\n",
        "\n",
        "\n",
        "df_future = pd.DataFrame(columns=['Date', 'Actual', 'Forecast'])\n",
        "df_future['Date'] = pd.date_range(start=df_past['Date'].iloc[-1] + pd.Timedelta(days=1), periods=n_forecast)\n",
        "df_future['Forecast'] = Y_.flatten()\n",
        "df_future['Actual'] = np.nan\n",
        "\n",
        "results = df_past.append(df_future).set_index('Date')\n",
        "\n",
        "# plot the results\n",
        "results.plot(title=stock_name)"
      ],
      "metadata": {
        "colab": {
          "base_uri": "https://localhost:8080/",
          "height": 381
        },
        "id": "AwUlM9Hxl6Ia",
        "outputId": "64400a1d-9cda-431b-e1d7-bf6582bb30ed"
      },
      "execution_count": 25,
      "outputs": [
        {
          "output_type": "error",
          "ename": "ValueError",
          "evalue": "ignored",
          "traceback": [
            "\u001b[0;31m---------------------------------------------------------------------------\u001b[0m",
            "\u001b[0;31mValueError\u001b[0m                                Traceback (most recent call last)",
            "\u001b[0;32m<ipython-input-25-fb4bf6885c4e>\u001b[0m in \u001b[0;36m<module>\u001b[0;34m\u001b[0m\n\u001b[1;32m      9\u001b[0m \u001b[0mdf_future\u001b[0m \u001b[0;34m=\u001b[0m \u001b[0mpd\u001b[0m\u001b[0;34m.\u001b[0m\u001b[0mDataFrame\u001b[0m\u001b[0;34m(\u001b[0m\u001b[0mcolumns\u001b[0m\u001b[0;34m=\u001b[0m\u001b[0;34m[\u001b[0m\u001b[0;34m'Date'\u001b[0m\u001b[0;34m,\u001b[0m \u001b[0;34m'Actual'\u001b[0m\u001b[0;34m,\u001b[0m \u001b[0;34m'Forecast'\u001b[0m\u001b[0;34m]\u001b[0m\u001b[0;34m)\u001b[0m\u001b[0;34m\u001b[0m\u001b[0;34m\u001b[0m\u001b[0m\n\u001b[1;32m     10\u001b[0m \u001b[0mdf_future\u001b[0m\u001b[0;34m[\u001b[0m\u001b[0;34m'Date'\u001b[0m\u001b[0;34m]\u001b[0m \u001b[0;34m=\u001b[0m \u001b[0mpd\u001b[0m\u001b[0;34m.\u001b[0m\u001b[0mdate_range\u001b[0m\u001b[0;34m(\u001b[0m\u001b[0mstart\u001b[0m\u001b[0;34m=\u001b[0m\u001b[0mdf_past\u001b[0m\u001b[0;34m[\u001b[0m\u001b[0;34m'Date'\u001b[0m\u001b[0;34m]\u001b[0m\u001b[0;34m.\u001b[0m\u001b[0miloc\u001b[0m\u001b[0;34m[\u001b[0m\u001b[0;34m-\u001b[0m\u001b[0;36m1\u001b[0m\u001b[0;34m]\u001b[0m \u001b[0;34m+\u001b[0m \u001b[0mpd\u001b[0m\u001b[0;34m.\u001b[0m\u001b[0mTimedelta\u001b[0m\u001b[0;34m(\u001b[0m\u001b[0mdays\u001b[0m\u001b[0;34m=\u001b[0m\u001b[0;36m1\u001b[0m\u001b[0;34m)\u001b[0m\u001b[0;34m,\u001b[0m \u001b[0mperiods\u001b[0m\u001b[0;34m=\u001b[0m\u001b[0mn_forecast\u001b[0m\u001b[0;34m)\u001b[0m\u001b[0;34m\u001b[0m\u001b[0;34m\u001b[0m\u001b[0m\n\u001b[0;32m---> 11\u001b[0;31m \u001b[0mdf_future\u001b[0m\u001b[0;34m[\u001b[0m\u001b[0;34m'Forecast'\u001b[0m\u001b[0;34m]\u001b[0m \u001b[0;34m=\u001b[0m \u001b[0mY_\u001b[0m\u001b[0;34m.\u001b[0m\u001b[0mflatten\u001b[0m\u001b[0;34m(\u001b[0m\u001b[0;34m)\u001b[0m\u001b[0;34m\u001b[0m\u001b[0;34m\u001b[0m\u001b[0m\n\u001b[0m\u001b[1;32m     12\u001b[0m \u001b[0mdf_future\u001b[0m\u001b[0;34m[\u001b[0m\u001b[0;34m'Actual'\u001b[0m\u001b[0;34m]\u001b[0m \u001b[0;34m=\u001b[0m \u001b[0mnp\u001b[0m\u001b[0;34m.\u001b[0m\u001b[0mnan\u001b[0m\u001b[0;34m\u001b[0m\u001b[0;34m\u001b[0m\u001b[0m\n\u001b[1;32m     13\u001b[0m \u001b[0;34m\u001b[0m\u001b[0m\n",
            "\u001b[0;32m/usr/local/lib/python3.9/dist-packages/pandas/core/frame.py\u001b[0m in \u001b[0;36m__setitem__\u001b[0;34m(self, key, value)\u001b[0m\n\u001b[1;32m   3653\u001b[0m         \u001b[0;32melse\u001b[0m\u001b[0;34m:\u001b[0m\u001b[0;34m\u001b[0m\u001b[0;34m\u001b[0m\u001b[0m\n\u001b[1;32m   3654\u001b[0m             \u001b[0;31m# set column\u001b[0m\u001b[0;34m\u001b[0m\u001b[0;34m\u001b[0m\u001b[0m\n\u001b[0;32m-> 3655\u001b[0;31m             \u001b[0mself\u001b[0m\u001b[0;34m.\u001b[0m\u001b[0m_set_item\u001b[0m\u001b[0;34m(\u001b[0m\u001b[0mkey\u001b[0m\u001b[0;34m,\u001b[0m \u001b[0mvalue\u001b[0m\u001b[0;34m)\u001b[0m\u001b[0;34m\u001b[0m\u001b[0;34m\u001b[0m\u001b[0m\n\u001b[0m\u001b[1;32m   3656\u001b[0m \u001b[0;34m\u001b[0m\u001b[0m\n\u001b[1;32m   3657\u001b[0m     \u001b[0;32mdef\u001b[0m \u001b[0m_setitem_slice\u001b[0m\u001b[0;34m(\u001b[0m\u001b[0mself\u001b[0m\u001b[0;34m,\u001b[0m \u001b[0mkey\u001b[0m\u001b[0;34m:\u001b[0m \u001b[0mslice\u001b[0m\u001b[0;34m,\u001b[0m \u001b[0mvalue\u001b[0m\u001b[0;34m)\u001b[0m\u001b[0;34m:\u001b[0m\u001b[0;34m\u001b[0m\u001b[0;34m\u001b[0m\u001b[0m\n",
            "\u001b[0;32m/usr/local/lib/python3.9/dist-packages/pandas/core/frame.py\u001b[0m in \u001b[0;36m_set_item\u001b[0;34m(self, key, value)\u001b[0m\n\u001b[1;32m   3830\u001b[0m         \u001b[0mensure\u001b[0m \u001b[0mhomogeneity\u001b[0m\u001b[0;34m.\u001b[0m\u001b[0;34m\u001b[0m\u001b[0;34m\u001b[0m\u001b[0m\n\u001b[1;32m   3831\u001b[0m         \"\"\"\n\u001b[0;32m-> 3832\u001b[0;31m         \u001b[0mvalue\u001b[0m \u001b[0;34m=\u001b[0m \u001b[0mself\u001b[0m\u001b[0;34m.\u001b[0m\u001b[0m_sanitize_column\u001b[0m\u001b[0;34m(\u001b[0m\u001b[0mvalue\u001b[0m\u001b[0;34m)\u001b[0m\u001b[0;34m\u001b[0m\u001b[0;34m\u001b[0m\u001b[0m\n\u001b[0m\u001b[1;32m   3833\u001b[0m \u001b[0;34m\u001b[0m\u001b[0m\n\u001b[1;32m   3834\u001b[0m         if (\n",
            "\u001b[0;32m/usr/local/lib/python3.9/dist-packages/pandas/core/frame.py\u001b[0m in \u001b[0;36m_sanitize_column\u001b[0;34m(self, value)\u001b[0m\n\u001b[1;32m   4536\u001b[0m \u001b[0;34m\u001b[0m\u001b[0m\n\u001b[1;32m   4537\u001b[0m         \u001b[0;32mif\u001b[0m \u001b[0mis_list_like\u001b[0m\u001b[0;34m(\u001b[0m\u001b[0mvalue\u001b[0m\u001b[0;34m)\u001b[0m\u001b[0;34m:\u001b[0m\u001b[0;34m\u001b[0m\u001b[0;34m\u001b[0m\u001b[0m\n\u001b[0;32m-> 4538\u001b[0;31m             \u001b[0mcom\u001b[0m\u001b[0;34m.\u001b[0m\u001b[0mrequire_length_match\u001b[0m\u001b[0;34m(\u001b[0m\u001b[0mvalue\u001b[0m\u001b[0;34m,\u001b[0m \u001b[0mself\u001b[0m\u001b[0;34m.\u001b[0m\u001b[0mindex\u001b[0m\u001b[0;34m)\u001b[0m\u001b[0;34m\u001b[0m\u001b[0;34m\u001b[0m\u001b[0m\n\u001b[0m\u001b[1;32m   4539\u001b[0m         \u001b[0;32mreturn\u001b[0m \u001b[0msanitize_array\u001b[0m\u001b[0;34m(\u001b[0m\u001b[0mvalue\u001b[0m\u001b[0;34m,\u001b[0m \u001b[0mself\u001b[0m\u001b[0;34m.\u001b[0m\u001b[0mindex\u001b[0m\u001b[0;34m,\u001b[0m \u001b[0mcopy\u001b[0m\u001b[0;34m=\u001b[0m\u001b[0;32mTrue\u001b[0m\u001b[0;34m,\u001b[0m \u001b[0mallow_2d\u001b[0m\u001b[0;34m=\u001b[0m\u001b[0;32mTrue\u001b[0m\u001b[0;34m)\u001b[0m\u001b[0;34m\u001b[0m\u001b[0;34m\u001b[0m\u001b[0m\n\u001b[1;32m   4540\u001b[0m \u001b[0;34m\u001b[0m\u001b[0m\n",
            "\u001b[0;32m/usr/local/lib/python3.9/dist-packages/pandas/core/common.py\u001b[0m in \u001b[0;36mrequire_length_match\u001b[0;34m(data, index)\u001b[0m\n\u001b[1;32m    555\u001b[0m     \"\"\"\n\u001b[1;32m    556\u001b[0m     \u001b[0;32mif\u001b[0m \u001b[0mlen\u001b[0m\u001b[0;34m(\u001b[0m\u001b[0mdata\u001b[0m\u001b[0;34m)\u001b[0m \u001b[0;34m!=\u001b[0m \u001b[0mlen\u001b[0m\u001b[0;34m(\u001b[0m\u001b[0mindex\u001b[0m\u001b[0;34m)\u001b[0m\u001b[0;34m:\u001b[0m\u001b[0;34m\u001b[0m\u001b[0;34m\u001b[0m\u001b[0m\n\u001b[0;32m--> 557\u001b[0;31m         raise ValueError(\n\u001b[0m\u001b[1;32m    558\u001b[0m             \u001b[0;34m\"Length of values \"\u001b[0m\u001b[0;34m\u001b[0m\u001b[0;34m\u001b[0m\u001b[0m\n\u001b[1;32m    559\u001b[0m             \u001b[0;34mf\"({len(data)}) \"\u001b[0m\u001b[0;34m\u001b[0m\u001b[0;34m\u001b[0m\u001b[0m\n",
            "\u001b[0;31mValueError\u001b[0m: Length of values (1) does not match length of index (30)"
          ]
        }
      ]
    }
  ],
  "metadata": {
    "accelerator": "GPU",
    "colab": {
      "provenance": []
    },
    "gpuClass": "standard",
    "kernelspec": {
      "display_name": "Python 3",
      "name": "python3"
    },
    "language_info": {
      "name": "python"
    }
  },
  "nbformat": 4,
  "nbformat_minor": 0
}